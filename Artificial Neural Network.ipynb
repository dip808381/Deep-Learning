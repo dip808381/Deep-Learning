{
 "cells": [
  {
   "cell_type": "code",
   "execution_count": 1,
   "metadata": {},
   "outputs": [],
   "source": [
    "                                                # Artificial Neural Network #"
   ]
  },
  {
   "cell_type": "code",
   "execution_count": 2,
   "metadata": {},
   "outputs": [],
   "source": [
    "# Part 1 - Data Preprocessing"
   ]
  },
  {
   "cell_type": "code",
   "execution_count": 51,
   "metadata": {},
   "outputs": [],
   "source": [
    "# Importing the libraries\n",
    "import numpy as np\n",
    "import matplotlib.pyplot as plt\n",
    "import pandas as pd"
   ]
  },
  {
   "cell_type": "code",
   "execution_count": 52,
   "metadata": {},
   "outputs": [],
   "source": [
    "# Importing the dataset\n",
    "dataset = pd.read_csv('Churn_Modelling.csv')\n",
    "X = dataset.iloc[:, 3:13].values\n",
    "y = dataset.iloc[:, 13].values"
   ]
  },
  {
   "cell_type": "code",
   "execution_count": 53,
   "metadata": {},
   "outputs": [
    {
     "data": {
      "text/html": [
       "<div>\n",
       "<style scoped>\n",
       "    .dataframe tbody tr th:only-of-type {\n",
       "        vertical-align: middle;\n",
       "    }\n",
       "\n",
       "    .dataframe tbody tr th {\n",
       "        vertical-align: top;\n",
       "    }\n",
       "\n",
       "    .dataframe thead th {\n",
       "        text-align: right;\n",
       "    }\n",
       "</style>\n",
       "<table border=\"1\" class=\"dataframe\">\n",
       "  <thead>\n",
       "    <tr style=\"text-align: right;\">\n",
       "      <th></th>\n",
       "      <th>RowNumber</th>\n",
       "      <th>CustomerId</th>\n",
       "      <th>Surname</th>\n",
       "      <th>CreditScore</th>\n",
       "      <th>Geography</th>\n",
       "      <th>Gender</th>\n",
       "      <th>Age</th>\n",
       "      <th>Tenure</th>\n",
       "      <th>Balance</th>\n",
       "      <th>NumOfProducts</th>\n",
       "      <th>HasCrCard</th>\n",
       "      <th>IsActiveMember</th>\n",
       "      <th>EstimatedSalary</th>\n",
       "      <th>Exited</th>\n",
       "    </tr>\n",
       "  </thead>\n",
       "  <tbody>\n",
       "    <tr>\n",
       "      <td>0</td>\n",
       "      <td>1</td>\n",
       "      <td>15634602</td>\n",
       "      <td>Hargrave</td>\n",
       "      <td>619</td>\n",
       "      <td>France</td>\n",
       "      <td>Female</td>\n",
       "      <td>42</td>\n",
       "      <td>2</td>\n",
       "      <td>0.00</td>\n",
       "      <td>1</td>\n",
       "      <td>1</td>\n",
       "      <td>1</td>\n",
       "      <td>101348.88</td>\n",
       "      <td>1</td>\n",
       "    </tr>\n",
       "    <tr>\n",
       "      <td>1</td>\n",
       "      <td>2</td>\n",
       "      <td>15647311</td>\n",
       "      <td>Hill</td>\n",
       "      <td>608</td>\n",
       "      <td>Spain</td>\n",
       "      <td>Female</td>\n",
       "      <td>41</td>\n",
       "      <td>1</td>\n",
       "      <td>83807.86</td>\n",
       "      <td>1</td>\n",
       "      <td>0</td>\n",
       "      <td>1</td>\n",
       "      <td>112542.58</td>\n",
       "      <td>0</td>\n",
       "    </tr>\n",
       "    <tr>\n",
       "      <td>2</td>\n",
       "      <td>3</td>\n",
       "      <td>15619304</td>\n",
       "      <td>Onio</td>\n",
       "      <td>502</td>\n",
       "      <td>France</td>\n",
       "      <td>Female</td>\n",
       "      <td>42</td>\n",
       "      <td>8</td>\n",
       "      <td>159660.80</td>\n",
       "      <td>3</td>\n",
       "      <td>1</td>\n",
       "      <td>0</td>\n",
       "      <td>113931.57</td>\n",
       "      <td>1</td>\n",
       "    </tr>\n",
       "    <tr>\n",
       "      <td>3</td>\n",
       "      <td>4</td>\n",
       "      <td>15701354</td>\n",
       "      <td>Boni</td>\n",
       "      <td>699</td>\n",
       "      <td>France</td>\n",
       "      <td>Female</td>\n",
       "      <td>39</td>\n",
       "      <td>1</td>\n",
       "      <td>0.00</td>\n",
       "      <td>2</td>\n",
       "      <td>0</td>\n",
       "      <td>0</td>\n",
       "      <td>93826.63</td>\n",
       "      <td>0</td>\n",
       "    </tr>\n",
       "    <tr>\n",
       "      <td>4</td>\n",
       "      <td>5</td>\n",
       "      <td>15737888</td>\n",
       "      <td>Mitchell</td>\n",
       "      <td>850</td>\n",
       "      <td>Spain</td>\n",
       "      <td>Female</td>\n",
       "      <td>43</td>\n",
       "      <td>2</td>\n",
       "      <td>125510.82</td>\n",
       "      <td>1</td>\n",
       "      <td>1</td>\n",
       "      <td>1</td>\n",
       "      <td>79084.10</td>\n",
       "      <td>0</td>\n",
       "    </tr>\n",
       "  </tbody>\n",
       "</table>\n",
       "</div>"
      ],
      "text/plain": [
       "   RowNumber  CustomerId   Surname  CreditScore Geography  Gender  Age  \\\n",
       "0          1    15634602  Hargrave          619    France  Female   42   \n",
       "1          2    15647311      Hill          608     Spain  Female   41   \n",
       "2          3    15619304      Onio          502    France  Female   42   \n",
       "3          4    15701354      Boni          699    France  Female   39   \n",
       "4          5    15737888  Mitchell          850     Spain  Female   43   \n",
       "\n",
       "   Tenure    Balance  NumOfProducts  HasCrCard  IsActiveMember  \\\n",
       "0       2       0.00              1          1               1   \n",
       "1       1   83807.86              1          0               1   \n",
       "2       8  159660.80              3          1               0   \n",
       "3       1       0.00              2          0               0   \n",
       "4       2  125510.82              1          1               1   \n",
       "\n",
       "   EstimatedSalary  Exited  \n",
       "0        101348.88       1  \n",
       "1        112542.58       0  \n",
       "2        113931.57       1  \n",
       "3         93826.63       0  \n",
       "4         79084.10       0  "
      ]
     },
     "execution_count": 53,
     "metadata": {},
     "output_type": "execute_result"
    }
   ],
   "source": [
    "dataset.head()"
   ]
  },
  {
   "cell_type": "code",
   "execution_count": 54,
   "metadata": {},
   "outputs": [
    {
     "data": {
      "text/plain": [
       "array([[619, 0, 'Female', ..., 1, 1, 101348.88],\n",
       "       [608, 2, 'Female', ..., 0, 1, 112542.58],\n",
       "       [502, 0, 'Female', ..., 1, 0, 113931.57],\n",
       "       ...,\n",
       "       [709, 0, 'Female', ..., 0, 1, 42085.58],\n",
       "       [772, 1, 'Male', ..., 1, 0, 92888.52],\n",
       "       [792, 0, 'Female', ..., 1, 0, 38190.78]], dtype=object)"
      ]
     },
     "execution_count": 54,
     "metadata": {},
     "output_type": "execute_result"
    }
   ],
   "source": [
    "# Encoding categorical data(Geography)\n",
    "from sklearn.preprocessing import LabelEncoder, OneHotEncoder\n",
    "labelencoder_X_1 = LabelEncoder()\n",
    "X[:, 1] = labelencoder_X_1.fit_transform(X[:, 1])\n",
    "X"
   ]
  },
  {
   "cell_type": "code",
   "execution_count": 55,
   "metadata": {},
   "outputs": [
    {
     "data": {
      "text/plain": [
       "array([[619, 0, 0, ..., 1, 1, 101348.88],\n",
       "       [608, 2, 0, ..., 0, 1, 112542.58],\n",
       "       [502, 0, 0, ..., 1, 0, 113931.57],\n",
       "       ...,\n",
       "       [709, 0, 0, ..., 0, 1, 42085.58],\n",
       "       [772, 1, 1, ..., 1, 0, 92888.52],\n",
       "       [792, 0, 0, ..., 1, 0, 38190.78]], dtype=object)"
      ]
     },
     "execution_count": 55,
     "metadata": {},
     "output_type": "execute_result"
    }
   ],
   "source": [
    "# Encoding categorical data(Gender)\n",
    "labelencoder_X_2 = LabelEncoder()\n",
    "X[:, 2] = labelencoder_X_2.fit_transform(X[:, 2])\n",
    "X"
   ]
  },
  {
   "cell_type": "code",
   "execution_count": 105,
   "metadata": {},
   "outputs": [
    {
     "name": "stderr",
     "output_type": "stream",
     "text": [
      "C:\\Users\\Ramu\\Anaconda3\\lib\\site-packages\\sklearn\\preprocessing\\_encoders.py:415: FutureWarning: The handling of integer data will change in version 0.22. Currently, the categories are determined based on the range [0, max(values)], while in the future they will be determined based on the unique values.\n",
      "If you want the future behaviour and silence this warning, you can specify \"categories='auto'\".\n",
      "In case you used a LabelEncoder before this OneHotEncoder to convert the categories to integers, then you can now use the OneHotEncoder directly.\n",
      "  warnings.warn(msg, FutureWarning)\n",
      "C:\\Users\\Ramu\\Anaconda3\\lib\\site-packages\\sklearn\\preprocessing\\_encoders.py:451: DeprecationWarning: The 'categorical_features' keyword is deprecated in version 0.20 and will be removed in 0.22. You can use the ColumnTransformer instead.\n",
      "  \"use the ColumnTransformer instead.\", DeprecationWarning)\n"
     ]
    },
    {
     "data": {
      "text/plain": [
       "array([[0.0000000e+00, 0.0000000e+00, 6.1900000e+02, ..., 1.0000000e+00,\n",
       "        1.0000000e+00, 1.0134888e+05],\n",
       "       [1.0000000e+00, 0.0000000e+00, 6.0800000e+02, ..., 0.0000000e+00,\n",
       "        1.0000000e+00, 1.1254258e+05],\n",
       "       [0.0000000e+00, 0.0000000e+00, 5.0200000e+02, ..., 1.0000000e+00,\n",
       "        0.0000000e+00, 1.1393157e+05],\n",
       "       ...,\n",
       "       [0.0000000e+00, 0.0000000e+00, 7.0900000e+02, ..., 0.0000000e+00,\n",
       "        1.0000000e+00, 4.2085580e+04],\n",
       "       [0.0000000e+00, 1.0000000e+00, 7.7200000e+02, ..., 1.0000000e+00,\n",
       "        0.0000000e+00, 9.2888520e+04],\n",
       "       [0.0000000e+00, 0.0000000e+00, 7.9200000e+02, ..., 1.0000000e+00,\n",
       "        0.0000000e+00, 3.8190780e+04]])"
      ]
     },
     "execution_count": 105,
     "metadata": {},
     "output_type": "execute_result"
    }
   ],
   "source": [
    "onehotencoder = OneHotEncoder(categorical_features = [1])\n",
    "X = onehotencoder.fit_transform(X).toarray()\n",
    "X = X[:, 1:]\n",
    "X"
   ]
  },
  {
   "cell_type": "code",
   "execution_count": 57,
   "metadata": {},
   "outputs": [],
   "source": [
    "# Splitting the dataset into the Training set and Test set\n",
    "from sklearn.model_selection import train_test_split\n",
    "X_train, X_test, y_train, y_test = train_test_split(X, y, test_size = 0.2, random_state = 0)"
   ]
  },
  {
   "cell_type": "code",
   "execution_count": 58,
   "metadata": {},
   "outputs": [],
   "source": [
    "# Feature Scaling\n",
    "from sklearn.preprocessing import StandardScaler\n",
    "sc = StandardScaler()\n",
    "X_train = sc.fit_transform(X_train)\n",
    "X_test = sc.transform(X_test)"
   ]
  },
  {
   "cell_type": "code",
   "execution_count": 59,
   "metadata": {},
   "outputs": [],
   "source": [
    "# Part 2 - Now let's make the ANN!"
   ]
  },
  {
   "cell_type": "code",
   "execution_count": 60,
   "metadata": {},
   "outputs": [],
   "source": [
    "# Importing the Keras libraries and packages\n",
    "import keras\n",
    "from keras.models import Sequential\n",
    "from keras.layers import Dense"
   ]
  },
  {
   "cell_type": "code",
   "execution_count": 61,
   "metadata": {},
   "outputs": [],
   "source": [
    "# Initialising the ANN\n",
    "classifier = Sequential()"
   ]
  },
  {
   "cell_type": "code",
   "execution_count": 67,
   "metadata": {},
   "outputs": [],
   "source": [
    "# Adding the input layer and the first hidden layer\n",
    "classifier.add(Dense(units = 6, kernel_initializer = 'uniform', activation = 'relu', input_dim = 11))"
   ]
  },
  {
   "cell_type": "code",
   "execution_count": 68,
   "metadata": {},
   "outputs": [],
   "source": [
    "# Adding second hidden layer\n",
    "classifier.add(Dense(units = 6, kernel_initializer = 'uniform', activation = 'relu'))"
   ]
  },
  {
   "cell_type": "code",
   "execution_count": 69,
   "metadata": {},
   "outputs": [],
   "source": [
    "# Adding the output layer\n",
    "classifier.add(Dense(units = 1, kernel_initializer = 'uniform', activation = 'sigmoid'))"
   ]
  },
  {
   "cell_type": "code",
   "execution_count": 74,
   "metadata": {},
   "outputs": [],
   "source": [
    "# Compiling the ANN\n",
    "classifier.compile(optimizer = 'adam', loss = 'binary_crossentropy', metrics = ['accuracy']) # optimize the weights, calculate the loss function and automatically measure the accuracy"
   ]
  },
  {
   "cell_type": "code",
   "execution_count": 102,
   "metadata": {},
   "outputs": [
    {
     "name": "stdout",
     "output_type": "stream",
     "text": [
      "Epoch 1/100\n",
      "8000/8000 [==============================] - 1s 177us/step - loss: 0.3996 - accuracy: 0.8361\n",
      "Epoch 2/100\n",
      "8000/8000 [==============================] - 1s 177us/step - loss: 0.3995 - accuracy: 0.8359\n",
      "Epoch 3/100\n",
      "8000/8000 [==============================] - 1s 178us/step - loss: 0.3994 - accuracy: 0.8360\n",
      "Epoch 4/100\n",
      "8000/8000 [==============================] - 1s 177us/step - loss: 0.3995 - accuracy: 0.8355\n",
      "Epoch 5/100\n",
      "8000/8000 [==============================] - 1s 174us/step - loss: 0.3994 - accuracy: 0.8350\n",
      "Epoch 6/100\n",
      "8000/8000 [==============================] - 1s 184us/step - loss: 0.3997 - accuracy: 0.8345\n",
      "Epoch 7/100\n",
      "8000/8000 [==============================] - 2s 205us/step - loss: 0.3992 - accuracy: 0.8357\n",
      "Epoch 8/100\n",
      "8000/8000 [==============================] - 1s 179us/step - loss: 0.3993 - accuracy: 0.8364\n",
      "Epoch 9/100\n",
      "8000/8000 [==============================] - 1s 186us/step - loss: 0.3995 - accuracy: 0.8335\n",
      "Epoch 10/100\n",
      "8000/8000 [==============================] - 2s 218us/step - loss: 0.3994 - accuracy: 0.8353\n",
      "Epoch 11/100\n",
      "8000/8000 [==============================] - 2s 236us/step - loss: 0.3994 - accuracy: 0.8359\n",
      "Epoch 12/100\n",
      "8000/8000 [==============================] - 2s 199us/step - loss: 0.3997 - accuracy: 0.8350\n",
      "Epoch 13/100\n",
      "8000/8000 [==============================] - 1s 174us/step - loss: 0.3989 - accuracy: 0.8355\n",
      "Epoch 14/100\n",
      "8000/8000 [==============================] - 1s 173us/step - loss: 0.3996 - accuracy: 0.8344\n",
      "Epoch 15/100\n",
      "8000/8000 [==============================] - 1s 171us/step - loss: 0.3993 - accuracy: 0.8342\n",
      "Epoch 16/100\n",
      "8000/8000 [==============================] - 1s 173us/step - loss: 0.3994 - accuracy: 0.8346\n",
      "Epoch 17/100\n",
      "8000/8000 [==============================] - 1s 172us/step - loss: 0.3990 - accuracy: 0.8346\n",
      "Epoch 18/100\n",
      "8000/8000 [==============================] - 1s 171us/step - loss: 0.3993 - accuracy: 0.8353\n",
      "Epoch 19/100\n",
      "8000/8000 [==============================] - 1s 173us/step - loss: 0.3990 - accuracy: 0.8356\n",
      "Epoch 20/100\n",
      "8000/8000 [==============================] - 1s 174us/step - loss: 0.3987 - accuracy: 0.8351\n",
      "Epoch 21/100\n",
      "8000/8000 [==============================] - 1s 174us/step - loss: 0.3982 - accuracy: 0.8359\n",
      "Epoch 22/100\n",
      "8000/8000 [==============================] - 1s 173us/step - loss: 0.3981 - accuracy: 0.8345\n",
      "Epoch 23/100\n",
      "8000/8000 [==============================] - 1s 184us/step - loss: 0.3980 - accuracy: 0.8356\n",
      "Epoch 24/100\n",
      "8000/8000 [==============================] - 2s 194us/step - loss: 0.3979 - accuracy: 0.8357\n",
      "Epoch 25/100\n",
      "8000/8000 [==============================] - 1s 177us/step - loss: 0.3975 - accuracy: 0.8346\n",
      "Epoch 26/100\n",
      "8000/8000 [==============================] - 1s 174us/step - loss: 0.3968 - accuracy: 0.8360\n",
      "Epoch 27/100\n",
      "8000/8000 [==============================] - 1s 184us/step - loss: 0.3972 - accuracy: 0.8356\n",
      "Epoch 28/100\n",
      "8000/8000 [==============================] - 1s 170us/step - loss: 0.3967 - accuracy: 0.8360\n",
      "Epoch 29/100\n",
      "8000/8000 [==============================] - 1s 175us/step - loss: 0.3963 - accuracy: 0.8367\n",
      "Epoch 30/100\n",
      "8000/8000 [==============================] - 1s 177us/step - loss: 0.3963 - accuracy: 0.8351\n",
      "Epoch 31/100\n",
      "8000/8000 [==============================] - 1s 180us/step - loss: 0.3967 - accuracy: 0.8370\n",
      "Epoch 32/100\n",
      "8000/8000 [==============================] - 2s 233us/step - loss: 0.3963 - accuracy: 0.8354\n",
      "Epoch 33/100\n",
      "8000/8000 [==============================] - 1s 186us/step - loss: 0.3961 - accuracy: 0.8355\n",
      "Epoch 34/100\n",
      "8000/8000 [==============================] - 2s 202us/step - loss: 0.3959 - accuracy: 0.8366\n",
      "Epoch 35/100\n",
      "8000/8000 [==============================] - 2s 206us/step - loss: 0.3958 - accuracy: 0.8363\n",
      "Epoch 36/100\n",
      "8000/8000 [==============================] - 2s 254us/step - loss: 0.3960 - accuracy: 0.8356\n",
      "Epoch 37/100\n",
      "8000/8000 [==============================] - 1s 184us/step - loss: 0.3952 - accuracy: 0.8359\n",
      "Epoch 38/100\n",
      "8000/8000 [==============================] - 1s 168us/step - loss: 0.3955 - accuracy: 0.8346\n",
      "Epoch 39/100\n",
      "8000/8000 [==============================] - 1s 171us/step - loss: 0.3952 - accuracy: 0.8360\n",
      "Epoch 40/100\n",
      "8000/8000 [==============================] - 1s 170us/step - loss: 0.3952 - accuracy: 0.8349\n",
      "Epoch 41/100\n",
      "8000/8000 [==============================] - 1s 173us/step - loss: 0.3949 - accuracy: 0.8374\n",
      "Epoch 42/100\n",
      "8000/8000 [==============================] - 1s 169us/step - loss: 0.3949 - accuracy: 0.8364\n",
      "Epoch 43/100\n",
      "8000/8000 [==============================] - 1s 172us/step - loss: 0.3950 - accuracy: 0.8372\n",
      "Epoch 44/100\n",
      "8000/8000 [==============================] - 1s 166us/step - loss: 0.3947 - accuracy: 0.8371\n",
      "Epoch 45/100\n",
      "8000/8000 [==============================] - 1s 168us/step - loss: 0.3949 - accuracy: 0.8339\n",
      "Epoch 46/100\n",
      "8000/8000 [==============================] - 1s 165us/step - loss: 0.3945 - accuracy: 0.8355\n",
      "Epoch 47/100\n",
      "8000/8000 [==============================] - 1s 165us/step - loss: 0.3945 - accuracy: 0.8357\n",
      "Epoch 48/100\n",
      "8000/8000 [==============================] - 1s 166us/step - loss: 0.3942 - accuracy: 0.8357\n",
      "Epoch 49/100\n",
      "8000/8000 [==============================] - 1s 173us/step - loss: 0.3940 - accuracy: 0.8356\n",
      "Epoch 50/100\n",
      "8000/8000 [==============================] - 1s 164us/step - loss: 0.3941 - accuracy: 0.8356\n",
      "Epoch 51/100\n",
      "8000/8000 [==============================] - 1s 170us/step - loss: 0.3942 - accuracy: 0.8360\n",
      "Epoch 52/100\n",
      "8000/8000 [==============================] - 1s 165us/step - loss: 0.3941 - accuracy: 0.8345\n",
      "Epoch 53/100\n",
      "8000/8000 [==============================] - 1s 168us/step - loss: 0.3938 - accuracy: 0.8346\n",
      "Epoch 54/100\n",
      "8000/8000 [==============================] - 2s 231us/step - loss: 0.3937 - accuracy: 0.8353\n",
      "Epoch 55/100\n",
      "8000/8000 [==============================] - 2s 190us/step - loss: 0.3939 - accuracy: 0.8351\n",
      "Epoch 56/100\n",
      "8000/8000 [==============================] - 2s 202us/step - loss: 0.3937 - accuracy: 0.8359\n",
      "Epoch 57/100\n",
      "8000/8000 [==============================] - 2s 211us/step - loss: 0.3938 - accuracy: 0.8347\n",
      "Epoch 58/100\n",
      "8000/8000 [==============================] - 2s 254us/step - loss: 0.3936 - accuracy: 0.8370\n",
      "Epoch 59/100\n",
      "8000/8000 [==============================] - 1s 178us/step - loss: 0.3936 - accuracy: 0.8331\n",
      "Epoch 60/100\n",
      "8000/8000 [==============================] - 1s 170us/step - loss: 0.3936 - accuracy: 0.8372\n",
      "Epoch 61/100\n",
      "8000/8000 [==============================] - 1s 162us/step - loss: 0.3936 - accuracy: 0.8359\n",
      "Epoch 62/100\n",
      "8000/8000 [==============================] - 1s 165us/step - loss: 0.3936 - accuracy: 0.8346\n",
      "Epoch 63/100\n",
      "8000/8000 [==============================] - 1s 168us/step - loss: 0.3936 - accuracy: 0.8340\n",
      "Epoch 64/100\n",
      "8000/8000 [==============================] - 2s 189us/step - loss: 0.3932 - accuracy: 0.8357\n",
      "Epoch 65/100\n",
      "8000/8000 [==============================] - 2s 205us/step - loss: 0.3930 - accuracy: 0.8359\n",
      "Epoch 66/100\n",
      "8000/8000 [==============================] - 1s 177us/step - loss: 0.3932 - accuracy: 0.8353\n",
      "Epoch 67/100\n",
      "8000/8000 [==============================] - 1s 176us/step - loss: 0.3932 - accuracy: 0.8349\n",
      "Epoch 68/100\n",
      "8000/8000 [==============================] - 1s 163us/step - loss: 0.3928 - accuracy: 0.8361\n",
      "Epoch 69/100\n",
      "8000/8000 [==============================] - 1s 163us/step - loss: 0.3927 - accuracy: 0.8360\n",
      "Epoch 70/100\n",
      "8000/8000 [==============================] - 1s 183us/step - loss: 0.3934 - accuracy: 0.8346\n",
      "Epoch 71/100\n",
      "8000/8000 [==============================] - 1s 173us/step - loss: 0.3927 - accuracy: 0.8357\n",
      "Epoch 72/100\n",
      "8000/8000 [==============================] - 2s 197us/step - loss: 0.3931 - accuracy: 0.8351\n",
      "Epoch 73/100\n",
      "8000/8000 [==============================] - 2s 214us/step - loss: 0.3925 - accuracy: 0.8366\n",
      "Epoch 74/100\n",
      "8000/8000 [==============================] - 1s 182us/step - loss: 0.3930 - accuracy: 0.8347\n",
      "Epoch 75/100\n",
      "8000/8000 [==============================] - 2s 192us/step - loss: 0.3930 - accuracy: 0.8349\n",
      "Epoch 76/100\n",
      "8000/8000 [==============================] - 2s 191us/step - loss: 0.3925 - accuracy: 0.8374\n",
      "Epoch 77/100\n",
      "8000/8000 [==============================] - 2s 221us/step - loss: 0.3925 - accuracy: 0.8356\n",
      "Epoch 78/100\n"
     ]
    },
    {
     "name": "stdout",
     "output_type": "stream",
     "text": [
      "8000/8000 [==============================] - 2s 191us/step - loss: 0.3927 - accuracy: 0.8360\n",
      "Epoch 79/100\n",
      "8000/8000 [==============================] - 1s 178us/step - loss: 0.3930 - accuracy: 0.8371\n",
      "Epoch 80/100\n",
      "8000/8000 [==============================] - 2s 195us/step - loss: 0.3922 - accuracy: 0.8359\n",
      "Epoch 81/100\n",
      "8000/8000 [==============================] - 2s 200us/step - loss: 0.3926 - accuracy: 0.8366\n",
      "Epoch 82/100\n",
      "8000/8000 [==============================] - 1s 165us/step - loss: 0.3922 - accuracy: 0.8367\n",
      "Epoch 83/100\n",
      "8000/8000 [==============================] - 1s 165us/step - loss: 0.3927 - accuracy: 0.8360\n",
      "Epoch 84/100\n",
      "8000/8000 [==============================] - 2s 192us/step - loss: 0.3928 - accuracy: 0.8363\n",
      "Epoch 85/100\n",
      "8000/8000 [==============================] - 2s 190us/step - loss: 0.3921 - accuracy: 0.8360\n",
      "Epoch 86/100\n",
      "8000/8000 [==============================] - 1s 177us/step - loss: 0.3919 - accuracy: 0.8346\n",
      "Epoch 87/100\n",
      "8000/8000 [==============================] - 1s 179us/step - loss: 0.3926 - accuracy: 0.8364\n",
      "Epoch 88/100\n",
      "8000/8000 [==============================] - 1s 178us/step - loss: 0.3924 - accuracy: 0.8357\n",
      "Epoch 89/100\n",
      "8000/8000 [==============================] - 1s 177us/step - loss: 0.3926 - accuracy: 0.8375\n",
      "Epoch 90/100\n",
      "8000/8000 [==============================] - 1s 182us/step - loss: 0.3922 - accuracy: 0.8365\n",
      "Epoch 91/100\n",
      "8000/8000 [==============================] - 2s 206us/step - loss: 0.3922 - accuracy: 0.8365\n",
      "Epoch 92/100\n",
      "8000/8000 [==============================] - 1s 184us/step - loss: 0.3921 - accuracy: 0.8366\n",
      "Epoch 93/100\n",
      "8000/8000 [==============================] - 1s 165us/step - loss: 0.3923 - accuracy: 0.8367\n",
      "Epoch 94/100\n",
      "8000/8000 [==============================] - 1s 165us/step - loss: 0.3922 - accuracy: 0.8364\n",
      "Epoch 95/100\n",
      "8000/8000 [==============================] - 1s 170us/step - loss: 0.3920 - accuracy: 0.8369\n",
      "Epoch 96/100\n",
      "8000/8000 [==============================] - 1s 165us/step - loss: 0.3920 - accuracy: 0.8375\n",
      "Epoch 97/100\n",
      "8000/8000 [==============================] - 1s 170us/step - loss: 0.3918 - accuracy: 0.8365\n",
      "Epoch 98/100\n",
      "8000/8000 [==============================] - 1s 166us/step - loss: 0.3915 - accuracy: 0.8363\n",
      "Epoch 99/100\n",
      "8000/8000 [==============================] - 2s 188us/step - loss: 0.3915 - accuracy: 0.8359\n",
      "Epoch 100/100\n",
      "8000/8000 [==============================] - 1s 171us/step - loss: 0.3905 - accuracy: 0.8372\n"
     ]
    },
    {
     "data": {
      "text/plain": [
       "<keras.callbacks.callbacks.History at 0x1dca62efe48>"
      ]
     },
     "execution_count": 102,
     "metadata": {},
     "output_type": "execute_result"
    }
   ],
   "source": [
    "# Fitting the ANN to the Tranning set\n",
    "classifier.fit(X_train, y_train, batch_size = 10, epochs = 100)"
   ]
  },
  {
   "cell_type": "code",
   "execution_count": 76,
   "metadata": {},
   "outputs": [],
   "source": [
    "# Part 3 - Making predictions and evaluating the model"
   ]
  },
  {
   "cell_type": "code",
   "execution_count": 106,
   "metadata": {},
   "outputs": [],
   "source": [
    "# Predicting the Test set results\n",
    "y_pred = classifier.predict(X_test)"
   ]
  },
  {
   "cell_type": "code",
   "execution_count": 107,
   "metadata": {},
   "outputs": [
    {
     "data": {
      "text/plain": [
       "array([[0.20973104],\n",
       "       [0.2701946 ],\n",
       "       [0.10072878],\n",
       "       ...,\n",
       "       [0.17718196],\n",
       "       [0.09076592],\n",
       "       [0.13575673]], dtype=float32)"
      ]
     },
     "execution_count": 107,
     "metadata": {},
     "output_type": "execute_result"
    }
   ],
   "source": [
    "y_pred"
   ]
  },
  {
   "cell_type": "code",
   "execution_count": 108,
   "metadata": {},
   "outputs": [],
   "source": [
    "y_pred = (y_pred > 0.5)"
   ]
  },
  {
   "cell_type": "code",
   "execution_count": 109,
   "metadata": {},
   "outputs": [
    {
     "data": {
      "text/plain": [
       "array([[False],\n",
       "       [False],\n",
       "       [False],\n",
       "       ...,\n",
       "       [False],\n",
       "       [False],\n",
       "       [False]])"
      ]
     },
     "execution_count": 109,
     "metadata": {},
     "output_type": "execute_result"
    }
   ],
   "source": [
    "y_pred"
   ]
  },
  {
   "cell_type": "code",
   "execution_count": 110,
   "metadata": {},
   "outputs": [],
   "source": [
    "# Making a confusion Matrix\n",
    "from sklearn.metrics import confusion_matrix\n",
    "cm = confusion_matrix(y_test, y_pred)"
   ]
  },
  {
   "cell_type": "code",
   "execution_count": 111,
   "metadata": {},
   "outputs": [
    {
     "data": {
      "text/plain": [
       "array([[1548,   47],\n",
       "       [ 272,  133]], dtype=int64)"
      ]
     },
     "execution_count": 111,
     "metadata": {},
     "output_type": "execute_result"
    }
   ],
   "source": [
    "cm   # confusion Matrix"
   ]
  },
  {
   "cell_type": "code",
   "execution_count": 112,
   "metadata": {},
   "outputs": [
    {
     "data": {
      "text/plain": [
       "0.842"
      ]
     },
     "execution_count": 112,
     "metadata": {},
     "output_type": "execute_result"
    }
   ],
   "source": [
    "# Measuring the Accuracy of the test set\n",
    "accuracy = (1545+139)/2000\n",
    "accuracy"
   ]
  },
  {
   "cell_type": "code",
   "execution_count": null,
   "metadata": {},
   "outputs": [],
   "source": [
    "# Predicting a single new observation\n",
    "Predict if the customer with the following informations will leave the bank:\n",
    "Geography: France\n",
    "Credit Score: 600\n",
    "Gender: Male\n",
    "Age: 40\n",
    "Tenure: 3\n",
    "Balance: 60000\n",
    "Number of Products: 2\n",
    "Has Credit Card: Yes\n",
    "Is Active Member: Yes\n",
    "Estimated Salary: 50000\n",
    "    \n",
    "So should we say goodbye to that customer ?"
   ]
  },
  {
   "cell_type": "code",
   "execution_count": 114,
   "metadata": {},
   "outputs": [],
   "source": [
    "new_prediction = classifier.predict(sc.transform(np.array([[0.0, 0, 600, 1, 40, 3, 60000, 2, 1, 1, 50000]])))"
   ]
  },
  {
   "cell_type": "code",
   "execution_count": 115,
   "metadata": {},
   "outputs": [
    {
     "data": {
      "text/plain": [
       "array([[False]])"
      ]
     },
     "execution_count": 115,
     "metadata": {},
     "output_type": "execute_result"
    }
   ],
   "source": [
    "new_prediction = (new_prediction > 0.5)\n",
    "new_prediction"
   ]
  },
  {
   "cell_type": "code",
   "execution_count": 116,
   "metadata": {},
   "outputs": [],
   "source": [
    "# So the customar will not leave the Bank"
   ]
  },
  {
   "cell_type": "code",
   "execution_count": null,
   "metadata": {},
   "outputs": [],
   "source": [
    "                                                 # Thank You #"
   ]
  }
 ],
 "metadata": {
  "kernelspec": {
   "display_name": "Python 3",
   "language": "python",
   "name": "python3"
  },
  "language_info": {
   "codemirror_mode": {
    "name": "ipython",
    "version": 3
   },
   "file_extension": ".py",
   "mimetype": "text/x-python",
   "name": "python",
   "nbconvert_exporter": "python",
   "pygments_lexer": "ipython3",
   "version": "3.7.4"
  }
 },
 "nbformat": 4,
 "nbformat_minor": 2
}
